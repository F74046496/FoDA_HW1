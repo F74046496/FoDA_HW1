{
 "cells": [
  {
   "cell_type": "code",
   "execution_count": 1,
   "metadata": {},
   "outputs": [
    {
     "name": "stdout",
     "output_type": "stream",
     "text": [
      "['.git', '.ipynb_checkpoints', 'hw1.ipynb', 'README.md', 'Reviews.csv']\n"
     ]
    }
   ],
   "source": [
    "# This Python 3 environment comes with many helpful analytics libraries installed\n",
    "# It is defined by the kaggle/python docker image: https://github.com/kaggle/docker-python\n",
    "# For example, here's several helpful packages to load in \n",
    "\n",
    "import numpy as np # linear algebra\n",
    "import scipy as sp \n",
    "import pandas as pd # data processing, CSV file I/O (e.g. pd.read_csv)\n",
    "import time\n",
    "\n",
    "# Visualization\n",
    "import matplotlib.pyplot as plt\n",
    "import seaborn as sns\n",
    "\n",
    "# NLP tools\n",
    "import nltk\n",
    "\n",
    "# Input data files are available in the \"../input/\" directory.\n",
    "# For example, running this (by clicking run or pressing Shift+Enter) will list the files in the input directory\n",
    "\n",
    "import os\n",
    "print(os.listdir(\"./\"))\n",
    "\n",
    "# Any results you write to the current directory are saved as output."
   ]
  },
  {
   "cell_type": "code",
   "execution_count": 2,
   "metadata": {
    "scrolled": false
   },
   "outputs": [
    {
     "name": "stdout",
     "output_type": "stream",
     "text": [
      "           UserId                                 ProfileName  Score count  \\\n",
      "0  A1Z54EM24Y40LL                                          c2           17   \n",
      "1  A2SZLNSI5KOQJT  Carrie, \"Formerly &#34;Sister Carrie&#34;\"           10   \n",
      "2  A35R32TA60XD57                                    M. Torma            9   \n",
      "3  A281NPSIMI1C2R      Rebecca of Amazon \"The Rebecca Review\"            8   \n",
      "4  A3OXHLG6DIBRW8                            C. F. Hill \"CFH\"            7   \n",
      "5  A3NHUQ33CFH3VM                                Citizen John            7   \n",
      "6  A3PJZ8TU8FDQ1K                                Jared Castle            7   \n",
      "7   AQQLWCMRNDFGI                          Steven A. Peterson            6   \n",
      "8  A2R6RA8FRBS608                          Matthew G. Sherwin            6   \n",
      "9  A10H24TDLK2VDP                         William Jens Jensen            6   \n",
      "\n",
      "   Score mean  \n",
      "0    3.882353  \n",
      "1    3.800000  \n",
      "2    4.111111  \n",
      "3    5.000000  \n",
      "4    4.428571  \n",
      "5    3.142857  \n",
      "6    4.714286  \n",
      "7    4.166667  \n",
      "8    5.000000  \n",
      "9    3.000000  \n"
     ]
    }
   ],
   "source": [
    "# The data path of input file\n",
    "data_path = \"./Reviews.csv\"\n",
    "\n",
    "# Read csv file to pandas dataframe\n",
    "pd_data = pd.read_csv(data_path)\n",
    "\n",
    "pd_data = pd_data[:10000]\n",
    "\n",
    "# Problem 1\n",
    "list_ID = ['','','','','','','','','','']\n",
    "list_profile = ['','','','','','','','','','']\n",
    "list_count = [0,0,0,0,0,0,0,0,0,0]\n",
    "list_mean = [0,0,0,0,0,0,0,0,0,0]\n",
    "\n",
    "type(pd_data)\n",
    "\n",
    "top10_ID = pd_data['UserId'].value_counts().head(10)\n",
    "i=0\n",
    "for i in range(10):\n",
    "    list_count[i] = top10_ID[i]\n",
    "    \n",
    "    filter = pd_data[\"UserId\"] == top10_ID.index[i] # UserID\n",
    "    top = pd_data[filter] # 篩選 data frame\n",
    "    \n",
    "    list_ID[i] = top10_ID.index[i]\n",
    "    list_profile[i] = top.iloc[0,3]\n",
    "    list_mean[i] = round(top['Score'].mean(), 6)\n",
    "    i=i+1\n",
    "    \n",
    "dict = {\"UserId\": list_ID,  \n",
    "        \"ProfileName\": list_profile,\n",
    "        \"Score count\": list_count,  \n",
    "        \"Score mean\": list_mean\n",
    "       }\n",
    "\n",
    "top_df = pd.DataFrame(dict)\n",
    "print(top_df)"
   ]
  },
  {
   "cell_type": "code",
   "execution_count": 3,
   "metadata": {},
   "outputs": [
    {
     "data": {
      "text/plain": [
       "<BarContainer object of 5 artists>"
      ]
     },
     "execution_count": 3,
     "metadata": {},
     "output_type": "execute_result"
    },
    {
     "data": {
      "image/png": "[encoded data removed]",
      "text/plain": [
       "<Figure size 432x288 with 1 Axes>"
      ]
     },
     "metadata": {
      "needs_background": "light"
     },
     "output_type": "display_data"
    }
   ],
   "source": [
    "#Problem 2\n",
    "list_times = [0,0,0,0,0]\n",
    "\n",
    "filter = pd_data[\"UserId\"] == top10_ID.index[0]\n",
    "top1 = pd_data[filter]\n",
    "\n",
    "top1.iloc[3,6]\n",
    "i = 0\n",
    "for i in range(len(top1)):\n",
    "    list_times[int(top1.iloc[i,6])-1] =  list_times[int(top1.iloc[i,6])-1] + 1\n",
    "    i = i+1\n",
    "    \n",
    "x = np.arange(len(list_times))\n",
    "plt.bar(x,list_times)"
   ]
  },
  {
   "cell_type": "code",
   "execution_count": 4,
   "metadata": {},
   "outputs": [
    {
     "data": {
      "image/png": "[encoded data removed]",
      "text/plain": [
       "<Figure size 432x288 with 1 Axes>"
      ]
     },
     "metadata": {
      "needs_background": "light"
     },
     "output_type": "display_data"
    }
   ],
   "source": [
    "#Problem 3\n",
    "list_date = []\n",
    "i=0\n",
    "for i in range(len(pd_data)):\n",
    "    list_date.append(pd_data.iloc[i,7])\n",
    "    i=i+1\n",
    "type(list_date)\n",
    "j=0\n",
    "for j in range(len(list_date)):\n",
    "    timeArray = time.localtime(list_date[j])\n",
    "    otherStyleTime = time.strftime(\"%Y\", timeArray)\n",
    "    list_date[j] = otherStyleTime\n",
    "    j=j+1\n",
    "dict_date = {\"Date\": list_date }\n",
    "date_df = pd.DataFrame(dict_date)\n",
    "date_df['Date'].value_counts()\n",
    "plt.bar(date_df['Date'].value_counts().index[:],date_df['Date'].value_counts()[:])\n",
    "plt.gca().invert_xaxis()"
   ]
  },
  {
   "cell_type": "code",
   "execution_count": 5,
   "metadata": {
    "scrolled": true
   },
   "outputs": [
    {
     "data": {
      "image/png": "[encoded data removed]",
      "text/plain": [
       "<Figure size 432x288 with 2 Axes>"
      ]
     },
     "metadata": {
      "needs_background": "light"
     },
     "output_type": "display_data"
    }
   ],
   "source": [
    "#Problem 4\n",
    "pd_heatmap = pd_data.drop(['ProductId','UserId','ProfileName','Summary','Text'], axis=1).corr()\n",
    "foo = sns.heatmap(pd_heatmap, vmax=0.6, square=True, annot=True)"
   ]
  },
  {
   "cell_type": "code",
   "execution_count": 6,
   "metadata": {},
   "outputs": [
    {
     "data": {
      "text/plain": [
       "(array([4878.,    0.,    0.,    0.,    0.,  689.,  225.,  422.,  317.,\n",
       "        3469.]),\n",
       " array([-1. , -0.8, -0.6, -0.4, -0.2,  0. ,  0.2,  0.4,  0.6,  0.8,  1. ]),\n",
       " <a list of 10 Patch objects>)"
      ]
     },
     "execution_count": 6,
     "metadata": {},
     "output_type": "execute_result"
    },
    {
     "data": {
      "image/png": "[encoded data removed]",
      "text/plain": [
       "<Figure size 432x288 with 1 Axes>"
      ]
     },
     "metadata": {
      "needs_background": "light"
     },
     "output_type": "display_data"
    }
   ],
   "source": [
    "#Problem 5\n",
    "list_HelpfulRatio = []\n",
    "i=0\n",
    "for i in range(len(pd_data)):\n",
    "    if pd_data.iloc[i,4] <= pd_data.iloc[i,5]:\n",
    "        if pd_data.iloc[i,4] == 0 and pd_data.iloc[i,5] == 0:\n",
    "            list_HelpfulRatio.append(-1)\n",
    "        else:\n",
    "            list_HelpfulRatio.append(pd_data.iloc[i,4] / pd_data.iloc[i,5])\n",
    "    i=i+1\n",
    "plt.hist(list_HelpfulRatio)"
   ]
  },
  {
   "cell_type": "code",
   "execution_count": null,
   "metadata": {},
   "outputs": [],
   "source": [
    "### Part 2 ###"
   ]
  }
 ],
 "metadata": {
  "kernelspec": {
   "display_name": "Python 3",
   "language": "python",
   "name": "python3"
  },
  "language_info": {
   "codemirror_mode": {
    "name": "ipython",
    "version": 3
   },
   "file_extension": ".py",
   "mimetype": "text/x-python",
   "name": "python",
   "nbconvert_exporter": "python",
   "pygments_lexer": "ipython3",
   "version": "3.7.1"
  }
 },
 "nbformat": 4,
 "nbformat_minor": 2
}
