{
 "cells": [
  {
   "cell_type": "code",
   "execution_count": 1,
   "metadata": {},
   "outputs": [
    {
     "name": "stdout",
     "output_type": "stream",
     "text": [
      "['.git', '.ipynb_checkpoints', 'athlete_events.csv', 'hw1.ipynb', 'README.md', 'Reviews.csv']\n"
     ]
    }
   ],
   "source": [
    "# This Python 3 environment comes with many helpful analytics libraries installed\n",
    "# It is defined by the kaggle/python docker image: https://github.com/kaggle/docker-python\n",
    "# For example, here's several helpful packages to load in \n",
    "\n",
    "import numpy as np # linear algebra\n",
    "import scipy as sp \n",
    "import pandas as pd # data processing, CSV file I/O (e.g. pd.read_csv)\n",
    "import time\n",
    "\n",
    "# Visualization\n",
    "import matplotlib.pyplot as plt\n",
    "import seaborn as sns\n",
    "\n",
    "# NLP tools\n",
    "import nltk\n",
    "\n",
    "# Input data files are available in the \"../input/\" directory.\n",
    "# For example, running this (by clicking run or pressing Shift+Enter) will list the files in the input directory\n",
    "\n",
    "import os\n",
    "print(os.listdir(\"./\"))\n",
    "\n",
    "# Any results you write to the current directory are saved as output."
   ]
  },
  {
   "cell_type": "code",
   "execution_count": 2,
   "metadata": {
    "scrolled": false
   },
   "outputs": [
    {
     "name": "stdout",
     "output_type": "stream",
     "text": [
      "           UserId                                 ProfileName  Score count  \\\n",
      "0  A1Z54EM24Y40LL                                          c2           17   \n",
      "1  A2SZLNSI5KOQJT  Carrie, \"Formerly &#34;Sister Carrie&#34;\"           10   \n",
      "2  A35R32TA60XD57                                    M. Torma            9   \n",
      "3  A281NPSIMI1C2R      Rebecca of Amazon \"The Rebecca Review\"            8   \n",
      "4  A3NHUQ33CFH3VM                                Citizen John            7   \n",
      "5  A3PJZ8TU8FDQ1K                                Jared Castle            7   \n",
      "6  A3OXHLG6DIBRW8                            C. F. Hill \"CFH\"            7   \n",
      "7  A10H24TDLK2VDP                         William Jens Jensen            6   \n",
      "8  A3TX6CWSZL02PW                          LaVerne \":LaVerne\"            6   \n",
      "9   AQ6SHOW0VMZGF                      K. Padgett \"familyof5\"            6   \n",
      "\n",
      "   Score mean  \n",
      "0    3.882353  \n",
      "1    3.800000  \n",
      "2    4.111111  \n",
      "3    5.000000  \n",
      "4    3.142857  \n",
      "5    4.714286  \n",
      "6    4.428571  \n",
      "7    3.000000  \n",
      "8    5.000000  \n",
      "9    2.666667  \n"
     ]
    }
   ],
   "source": [
    "# The data path of input file\n",
    "data_path = \"./Reviews.csv\"\n",
    "\n",
    "# Read csv file to pandas dataframe\n",
    "pd_data = pd.read_csv(data_path)\n",
    "\n",
    "pd_data = pd_data[:10000]\n",
    "\n",
    "# Problem 1\n",
    "list_ID = ['','','','','','','','','','']\n",
    "list_profile = ['','','','','','','','','','']\n",
    "list_count = [0,0,0,0,0,0,0,0,0,0]\n",
    "list_mean = [0,0,0,0,0,0,0,0,0,0]\n",
    "\n",
    "type(pd_data)\n",
    "\n",
    "top10_ID = pd_data['UserId'].value_counts().head(10)\n",
    "i=0\n",
    "for i in range(10):\n",
    "    list_count[i] = top10_ID[i]\n",
    "    \n",
    "    filter = pd_data[\"UserId\"] == top10_ID.index[i] # UserID\n",
    "    top = pd_data[filter] # 篩選 data frame\n",
    "    \n",
    "    list_ID[i] = top10_ID.index[i]\n",
    "    list_profile[i] = top.iloc[0,3]\n",
    "    list_mean[i] = round(top['Score'].mean(), 6)\n",
    "    i=i+1\n",
    "    \n",
    "dict = {\"UserId\": list_ID,  \n",
    "        \"ProfileName\": list_profile,\n",
    "        \"Score count\": list_count,  \n",
    "        \"Score mean\": list_mean\n",
    "       }\n",
    "\n",
    "top_df = pd.DataFrame(dict)\n",
    "print(top_df)"
   ]
  },
  {
   "cell_type": "code",
   "execution_count": 3,
   "metadata": {},
   "outputs": [
    {
     "data": {
      "text/plain": [
       "<BarContainer object of 5 artists>"
      ]
     },
     "execution_count": 3,
     "metadata": {},
     "output_type": "execute_result"
    },
    {
     "data": {
      "image/png": "[encoded data removed]",
      "text/plain": [
       "<Figure size 432x288 with 1 Axes>"
      ]
     },
     "metadata": {
      "needs_background": "light"
     },
     "output_type": "display_data"
    }
   ],
   "source": [
    "#Problem 2\n",
    "list_times = [0,0,0,0,0]\n",
    "\n",
    "filter = pd_data[\"UserId\"] == top10_ID.index[0]\n",
    "top1 = pd_data[filter]\n",
    "\n",
    "top1.iloc[3,6]\n",
    "i = 0\n",
    "for i in range(len(top1)):\n",
    "    list_times[int(top1.iloc[i,6])-1] =  list_times[int(top1.iloc[i,6])-1] + 1\n",
    "    i = i+1\n",
    "    \n",
    "x = np.arange(len(list_times))\n",
    "plt.bar(x,list_times)"
   ]
  },
  {
   "cell_type": "code",
   "execution_count": 4,
   "metadata": {},
   "outputs": [
    {
     "data": {
      "image/png": "[encoded data removed]",
      "text/plain": [
       "<Figure size 432x288 with 1 Axes>"
      ]
     },
     "metadata": {
      "needs_background": "light"
     },
     "output_type": "display_data"
    }
   ],
   "source": [
    "#Problem 3\n",
    "list_date = []\n",
    "i=0\n",
    "for i in range(len(pd_data)):\n",
    "    list_date.append(pd_data.iloc[i,7])\n",
    "    i=i+1\n",
    "type(list_date)\n",
    "j=0\n",
    "for j in range(len(list_date)):\n",
    "    timeArray = time.localtime(list_date[j])\n",
    "    otherStyleTime = time.strftime(\"%Y\", timeArray)\n",
    "    list_date[j] = otherStyleTime\n",
    "    j=j+1\n",
    "dict_date = {\"Date\": list_date }\n",
    "date_df = pd.DataFrame(dict_date)\n",
    "date_df['Date'].value_counts()\n",
    "plt.bar(date_df['Date'].value_counts().index[:],date_df['Date'].value_counts()[:])\n",
    "plt.gca().invert_xaxis()"
   ]
  },
  {
   "cell_type": "code",
   "execution_count": 5,
   "metadata": {
    "scrolled": true
   },
   "outputs": [
    {
     "data": {
      "image/png": "[encoded data removed]",
      "text/plain": [
       "<Figure size 432x288 with 2 Axes>"
      ]
     },
     "metadata": {
      "needs_background": "light"
     },
     "output_type": "display_data"
    }
   ],
   "source": [
    "#Problem 4\n",
    "pd_heatmap = pd_data.drop(['ProductId','UserId','ProfileName','Summary','Text'], axis=1).corr()\n",
    "foo = sns.heatmap(pd_heatmap, vmax=0.6, square=True, annot=True)"
   ]
  },
  {
   "cell_type": "code",
   "execution_count": 6,
   "metadata": {},
   "outputs": [
    {
     "data": {
      "text/plain": [
       "(array([4878.,    0.,    0.,    0.,    0.,  689.,  225.,  422.,  317.,\n",
       "        3469.]),\n",
       " array([-1. , -0.8, -0.6, -0.4, -0.2,  0. ,  0.2,  0.4,  0.6,  0.8,  1. ]),\n",
       " <a list of 10 Patch objects>)"
      ]
     },
     "execution_count": 6,
     "metadata": {},
     "output_type": "execute_result"
    },
    {
     "data": {
      "image/png": "[encoded data removed]",
      "text/plain": [
       "<Figure size 432x288 with 1 Axes>"
      ]
     },
     "metadata": {
      "needs_background": "light"
     },
     "output_type": "display_data"
    }
   ],
   "source": [
    "#Problem 5\n",
    "list_HelpfulRatio = []\n",
    "i=0\n",
    "for i in range(len(pd_data)):\n",
    "    if pd_data.iloc[i,4] <= pd_data.iloc[i,5]:\n",
    "        if pd_data.iloc[i,4] == 0 and pd_data.iloc[i,5] == 0:\n",
    "            list_HelpfulRatio.append(-1)\n",
    "        else:\n",
    "            list_HelpfulRatio.append(pd_data.iloc[i,4] / pd_data.iloc[i,5])\n",
    "    i=i+1\n",
    "plt.hist(list_HelpfulRatio)"
   ]
  },
  {
   "cell_type": "code",
   "execution_count": 7,
   "metadata": {},
   "outputs": [],
   "source": [
    "### Part 2 ###\n",
    "# The data path of input file\n",
    "oly_path = \"./athlete_events.csv\"\n",
    "\n",
    "# Read csv file to pandas dataframe\n",
    "pd_oly = pd.read_csv(oly_path)"
   ]
  },
  {
   "cell_type": "markdown",
   "metadata": {},
   "source": [
    "- 資料為1896年雅典奧運到2016年里約奧運的選手資料"
   ]
  },
  {
   "cell_type": "code",
   "execution_count": 8,
   "metadata": {},
   "outputs": [
    {
     "data": {
      "text/plain": [
       "<BarContainer object of 5 artists>"
      ]
     },
     "execution_count": 8,
     "metadata": {},
     "output_type": "execute_result"
    },
    {
     "data": {
      "image/png": "[encoded data removed]",
      "text/plain": [
       "<Figure size 432x288 with 1 Axes>"
      ]
     },
     "metadata": {
      "needs_background": "light"
     },
     "output_type": "display_data"
    }
   ],
   "source": [
    "#top 5 sport of most player\n",
    "top5_sport = pd_oly['Sport'].value_counts().head(5)\n",
    "plt.bar(top5_sport.index[:], top5_sport[:])"
   ]
  },
  {
   "cell_type": "markdown",
   "metadata": {},
   "source": [
    "- 上圖為最多選手參加的前五名運動，可看出田徑選手人數遠超過其他運動\n",
    "- 第二三名分別為體操與游泳，可看出前三名都為可在分為更多細項的運動"
   ]
  },
  {
   "cell_type": "code",
   "execution_count": 9,
   "metadata": {},
   "outputs": [
    {
     "data": {
      "text/plain": [
       "<BarContainer object of 10 artists>"
      ]
     },
     "execution_count": 9,
     "metadata": {},
     "output_type": "execute_result"
    },
    {
     "data": {
      "image/png": "[encoded data removed]",
      "text/plain": [
       "<Figure size 432x288 with 1 Axes>"
      ]
     },
     "metadata": {
      "needs_background": "light"
     },
     "output_type": "display_data"
    }
   ],
   "source": [
    "#top 10 Country of most player\n",
    "top10_team = pd_oly['NOC'].value_counts().head(10)\n",
    "plt.bar(top10_team.index[:], top10_team[:])"
   ]
  },
  {
   "cell_type": "markdown",
   "metadata": {},
   "source": [
    "- 此圖則為最多選手參加的前十名國家，可看到美國參加過奧運的選手人數比其他國家硬生生多出一截"
   ]
  },
  {
   "cell_type": "code",
   "execution_count": 10,
   "metadata": {},
   "outputs": [
    {
     "data": {
      "text/plain": [
       "<BarContainer object of 5 artists>"
      ]
     },
     "execution_count": 10,
     "metadata": {},
     "output_type": "execute_result"
    },
    {
     "data": {
      "image/png": "[encoded data removed]",
      "text/plain": [
       "<Figure size 432x288 with 1 Axes>"
      ]
     },
     "metadata": {
      "needs_background": "light"
     },
     "output_type": "display_data"
    }
   ],
   "source": [
    "#top 5 Game of most player\n",
    "top5_city = pd_oly['City'].value_counts().head(5)\n",
    "plt.bar(top5_city.index[:], top5_city[:])"
   ]
  },
  {
   "cell_type": "markdown",
   "metadata": {},
   "source": [
    "- 上圖為分析前五名最多人參加過的奧運會，由圖表可看出倫敦奧運為最多人參加的一屆奧運"
   ]
  },
  {
   "cell_type": "code",
   "execution_count": 11,
   "metadata": {},
   "outputs": [
    {
     "data": {
      "text/plain": [
       "<BarContainer object of 2 artists>"
      ]
     },
     "execution_count": 11,
     "metadata": {},
     "output_type": "execute_result"
    },
    {
     "data": {
      "image/png": "[encoded data removed]",
      "text/plain": [
       "<Figure size 432x288 with 1 Axes>"
      ]
     },
     "metadata": {
      "needs_background": "light"
     },
     "output_type": "display_data"
    }
   ],
   "source": [
    "sex_compare = pd_oly['Sex'].value_counts()\n",
    "plt.bar(sex_compare.index[:], sex_compare[:])"
   ]
  },
  {
   "cell_type": "markdown",
   "metadata": {},
   "source": [
    "### - 此為歷屆奧運選手的男女比例，可發現明顯男女比例的懸殊差異"
   ]
  },
  {
   "cell_type": "code",
   "execution_count": 12,
   "metadata": {},
   "outputs": [
    {
     "data": {
      "text/plain": [
       "<BarContainer object of 74 artists>"
      ]
     },
     "execution_count": 12,
     "metadata": {},
     "output_type": "execute_result"
    },
    {
     "data": {
      "image/png": "[encoded data removed]",
      "text/plain": [
       "<Figure size 432x288 with 1 Axes>"
      ]
     },
     "metadata": {
      "needs_background": "light"
     },
     "output_type": "display_data"
    }
   ],
   "source": [
    "list_age = []\n",
    "i=0\n",
    "for i in range(len(pd_oly)):\n",
    "    list_age.append(pd_oly.iloc[i,3])\n",
    "    i=i+1\n",
    "\n",
    "dict_age = {\"Age\": list_age }\n",
    "age_df = pd.DataFrame(dict_age)\n",
    "age_df['Age'].value_counts()\n",
    "plt.bar(age_df['Age'].value_counts().index[:],age_df['Age'].value_counts()[:])"
   ]
  },
  {
   "cell_type": "markdown",
   "metadata": {},
   "source": [
    "- 上圖為歷屆奧運會選手的年齡分布，以青壯年為大宗，但也曾經有過60~70歲的選手參加"
   ]
  },
  {
   "cell_type": "code",
   "execution_count": 13,
   "metadata": {},
   "outputs": [
    {
     "data": {
      "image/png": "[encoded data removed]",
      "text/plain": [
       "<Figure size 432x288 with 2 Axes>"
      ]
     },
     "metadata": {
      "needs_background": "light"
     },
     "output_type": "display_data"
    }
   ],
   "source": [
    "pd_olymap = pd_oly.drop(['Sex','Team','NOC','Games','Year','Season','City','Sport','Event','Medal'], axis=1).corr()\n",
    "foo2 = sns.heatmap(pd_olymap, vmax=0.6, square=True, annot=True)"
   ]
  },
  {
   "cell_type": "markdown",
   "metadata": {},
   "source": [
    "- 此為選手年齡、身高與體重的heatmap"
   ]
  },
  {
   "cell_type": "code",
   "execution_count": 14,
   "metadata": {},
   "outputs": [
    {
     "data": {
      "text/plain": [
       "(array([4.60000e+01, 1.89790e+04, 1.54042e+05, 3.01280e+04, 2.90700e+03,\n",
       "        5.85000e+02, 1.42000e+02, 1.90000e+01, 3.00000e+00, 2.00000e+00]),\n",
       " array([ 8.36095434, 13.91501687, 19.4690794 , 25.02314193, 30.57720446,\n",
       "        36.13126698, 41.68532951, 47.23939204, 52.79345457, 58.3475171 ,\n",
       "        63.90157962]),\n",
       " <a list of 10 Patch objects>)"
      ]
     },
     "execution_count": 14,
     "metadata": {},
     "output_type": "execute_result"
    },
    {
     "data": {
      "image/png": "[encoded data removed]",
      "text/plain": [
       "<Figure size 432x288 with 1 Axes>"
      ]
     },
     "metadata": {
      "needs_background": "light"
     },
     "output_type": "display_data"
    }
   ],
   "source": [
    "import math\n",
    "list_BMI = []\n",
    "\n",
    "i=0\n",
    "for i in range(len(pd_oly)):\n",
    "    if math.isnan(float(pd_oly.iloc[i,4])) == False and math.isnan(float(pd_oly.iloc[i,5])) == False:\n",
    "        list_BMI.append(pd_oly.iloc[i,5]/(pd_oly.iloc[i,4]/100)/(pd_oly.iloc[i,4]/100))\n",
    "    i=i+1\n",
    "plt.hist(list_BMI)"
   ]
  },
  {
   "cell_type": "markdown",
   "metadata": {},
   "source": [
    " - 最後這張則為歷屆選手的身體質量指數分布，透過選手的身高與體重計算而來，並過濾掉無明確記載身高體重之資料"
   ]
  },
  {
   "cell_type": "code",
   "execution_count": null,
   "metadata": {},
   "outputs": [],
   "source": []
  }
 ],
 "metadata": {
  "kernelspec": {
   "display_name": "Python 3",
   "language": "python",
   "name": "python3"
  },
  "language_info": {
   "codemirror_mode": {
    "name": "ipython",
    "version": 3
   },
   "file_extension": ".py",
   "mimetype": "text/x-python",
   "name": "python",
   "nbconvert_exporter": "python",
   "pygments_lexer": "ipython3",
   "version": "3.7.1"
  }
 },
 "nbformat": 4,
 "nbformat_minor": 2
}
